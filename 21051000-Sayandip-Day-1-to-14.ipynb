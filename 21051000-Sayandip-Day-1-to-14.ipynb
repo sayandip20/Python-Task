{
 "cells": [
  {
   "attachments": {},
   "cell_type": "markdown",
   "id": "4435778d",
   "metadata": {},
   "source": [
    "    Day 1"
   ]
  },
  {
   "attachments": {},
   "cell_type": "markdown",
   "id": "9be1e179",
   "metadata": {},
   "source": [
    "2. List Some Mega Projects hosted in Python\n",
    "\n",
    "*   Database Projects: Management Systems (Library, Hotel, Hospital, School)\n",
    "*   ML Projects: Classification\n",
    "*   AI Projects: Chatbots, face detection and recognition, speech recognition, Security\n",
    "*   Data Science Projects: Global Terrorism Analysis, Call Data Record Analysis"
   ]
  },
  {
   "attachments": {},
   "cell_type": "markdown",
   "id": "3f71f90a",
   "metadata": {},
   "source": [
    "3. List Python Libraries Used in Different IT Domains\n",
    "\n",
    "    Pandas, numpy, matplotlib, tkinter, sklearn, tensorflow"
   ]
  },
  {
   "cell_type": "code",
   "execution_count": 1,
   "id": "76404fa8",
   "metadata": {},
   "outputs": [
    {
     "name": "stdout",
     "output_type": "stream",
     "text": [
      "Hello World\n",
      "Sum is : 50\n"
     ]
    }
   ],
   "source": [
    "#4. Create a Program and execute a script in Python \n",
    "\n",
    "print('Hello World')\n",
    "a = 45\n",
    "b = 5\n",
    "c = a+b\n",
    "print('Sum is :', c)"
   ]
  },
  {
   "attachments": {},
   "cell_type": "markdown",
   "id": "5eb0493b",
   "metadata": {},
   "source": [
    "    Day 2"
   ]
  },
  {
   "attachments": {},
   "cell_type": "markdown",
   "id": "4c7a895c",
   "metadata": {},
   "source": [
    "2. Use Jupyter Notebook to execute following code, try to guess what is happening in this code\n",
    "\n",
    "    It is used to plot a graph showing the height distribution of various people."
   ]
  },
  {
   "attachments": {},
   "cell_type": "markdown",
   "id": "d266ad01",
   "metadata": {},
   "source": [
    "4. Write Down difference between interpreter and compiler\n",
    "\n",
    "\tCompiler checks the program as a whole and searches for errors. After no error is detected it generates an executable byte code file which on executing gives us the output.\n",
    "\t\n",
    "\tInterpreter checks the entire code line by line. So if a line contains error it stops executing. It is slower than compiler."
   ]
  },
  {
   "attachments": {},
   "cell_type": "markdown",
   "id": "e5ef807c",
   "metadata": {},
   "source": [
    "5. What is Data Structure, why we need one in programs? \n",
    "\n",
    "\tData structure explains how data is going to organized in computer memory, and what will be the cost performing different operations like traversing, insertion, deletion, searching and sorting on that data."
   ]
  },
  {
   "attachments": {},
   "cell_type": "markdown",
   "id": "1755478b",
   "metadata": {},
   "source": [
    "    Day 3"
   ]
  },
  {
   "attachments": {},
   "cell_type": "markdown",
   "id": "13c625c2",
   "metadata": {},
   "source": [
    "1. What are Data Structures? List some of data structures and their use in real world application?\n",
    "\n",
    "\tData type explains how data is going to organised in computer memory, and what will be the cost of performing different operations like traversing, insertion, deletion, searching and sorting on that data.\n",
    "\tEx - integer, float, string, list, dictionary, set, boolean.\n",
    "        \n",
    "\tLists, dictionary are used in management systems."
   ]
  },
  {
   "cell_type": "code",
   "execution_count": 3,
   "id": "c8f63811",
   "metadata": {},
   "outputs": [
    {
     "name": "stdout",
     "output_type": "stream",
     "text": [
      "['__add__', '__class__', '__class_getitem__', '__contains__', '__delattr__', '__delitem__', '__dir__', '__doc__', '__eq__', '__format__', '__ge__', '__getattribute__', '__getitem__', '__getstate__', '__gt__', '__hash__', '__iadd__', '__imul__', '__init__', '__init_subclass__', '__iter__', '__le__', '__len__', '__lt__', '__mul__', '__ne__', '__new__', '__reduce__', '__reduce_ex__', '__repr__', '__reversed__', '__rmul__', '__setattr__', '__setitem__', '__sizeof__', '__str__', '__subclasshook__', 'append', 'clear', 'copy', 'count', 'extend', 'index', 'insert', 'pop', 'remove', 'reverse', 'sort']\n",
      "Help on NoneType object:\n",
      "\n",
      "class NoneType(object)\n",
      " |  Methods defined here:\n",
      " |  \n",
      " |  __bool__(self, /)\n",
      " |      True if self else False\n",
      " |  \n",
      " |  __repr__(self, /)\n",
      " |      Return repr(self).\n",
      " |  \n",
      " |  ----------------------------------------------------------------------\n",
      " |  Static methods defined here:\n",
      " |  \n",
      " |  __new__(*args, **kwargs) from builtins.type\n",
      " |      Create and return a new object.  See help(type) for accurate signature.\n",
      "\n"
     ]
    }
   ],
   "source": [
    "# 3. Create a list data type and store names of your friends in it (at least 5), check out what are methods available in list data type, try to figure out their working using help function in python.\n",
    "\n",
    "Names = ['sayan', 'aritra', 'anway', 'sagnik']\n",
    "print(dir(Names))\n",
    "help(Names.extend(['arka','subhodeep']))\n"
   ]
  },
  {
   "attachments": {},
   "cell_type": "markdown",
   "id": "48443594",
   "metadata": {},
   "source": [
    "4. What is difference between ordered data type and unordered data type?\n",
    "\n",
    "\tOrdered data types are sequential data types on which we can use indexing and slicing. Ex - list, tuple.\n",
    "\t\n",
    "\tUnordered data types are non sequential and we can’t use indexing or slicing on them. Ex - set, dictionary."
   ]
  },
  {
   "attachments": {},
   "cell_type": "markdown",
   "id": "d7898a1b",
   "metadata": {},
   "source": [
    "5. Write down types of each value given? (in python)\n",
    "\n",
    "        a. 100 - integer\n",
    "        b. 105.5 - float\n",
    "        c. 192.56j - complex\n",
    "        d. 10+6j - complex\n",
    "        e. ‘10’ - string\n",
    "        f. ‘hello world’ - string\n",
    "        g. [10, 20, 50, 100] - list\n",
    "        h. { ‘name’: ‘sachin’, ‘age’: 24, ‘language’: ‘python’ } - dictionary\n"
   ]
  },
  {
   "attachments": {},
   "cell_type": "markdown",
   "id": "8c95b63a",
   "metadata": {},
   "source": [
    "    Day 4"
   ]
  },
  {
   "cell_type": "code",
   "execution_count": 4,
   "id": "e030ef91",
   "metadata": {},
   "outputs": [
    {
     "name": "stdout",
     "output_type": "stream",
     "text": [
      "Hello world! this is Python\n",
      "['Hello', 'world!', 'this', 'is', 'Python']\n",
      "    Hello world! this is Java            \n",
      "       Hello world! this is Python                \n",
      "    Hello World! This Is Python            \n"
     ]
    }
   ],
   "source": [
    "# 1. Explore split, strip, replace, center, title methods of string data type in python\n",
    "\n",
    "S = '    Hello world! this is Python            '\n",
    "print(S.strip())\n",
    "print(S.split()) \n",
    "print(S.replace('Python','Java'))\n",
    "print(S.center(50))\n",
    "print(S.title())"
   ]
  },
  {
   "cell_type": "code",
   "execution_count": 5,
   "id": "76d73b04",
   "metadata": {},
   "outputs": [
    {
     "name": "stdout",
     "output_type": "stream",
     "text": [
      "[20, 5, 70, 40, 30, 10]\n",
      "[20, 5, 70, 40, 30]\n",
      "[20, 70, 40, 30]\n",
      "[20, 30, 40, 70]\n"
     ]
    }
   ],
   "source": [
    "# 2. Explore append, pop, remove, sort methods of list data type\n",
    "\n",
    "L = [20, 5, 70, 40, 30]\n",
    "L.append(10)\n",
    "print(L)\n",
    "L.pop()\n",
    "print(L)\n",
    "L.remove(5)\n",
    "print(L)\n",
    "L.sort()\n",
    "print(L)"
   ]
  },
  {
   "attachments": {},
   "cell_type": "markdown",
   "id": "e9102330",
   "metadata": {},
   "source": [
    "3. Create 5 real time list to store some useful information in python. Eg -> Language = [ ‘java’, ‘c’, ‘c++’, ‘ruby’ ]\n",
    "\n",
    "        Language = [ ‘java’, ‘c’, ‘c++’, ‘ruby’ ]\n",
    "\t\tSubject = [‘physics’, ’chem’, ’math’, ’bio’]\n",
    "\t\tStream = [‘CSE’, ‘IT’, ‘electrical’, ‘civil’] ..."
   ]
  },
  {
   "attachments": {},
   "cell_type": "markdown",
   "id": "b636b5fa",
   "metadata": {},
   "source": [
    "4. What is difference between mutable and immutable data types in python\n",
    "\n",
    "\t\tAn object whose internal state can be changed is call mutable.\n",
    "\t\tImmutable data type doesn’t allow any change in the object once it has been created."
   ]
  },
  {
   "attachments": {},
   "cell_type": "markdown",
   "id": "b2bc709e",
   "metadata": {},
   "source": [
    "5. What are identifiers, list rules of identifiers in python\n",
    "\n",
    "\t\tIdentifiers are used to store an object of a data type class.\n",
    "\t\tRules for identifiers are:-\n",
    "\t\t* an identifier should not be a keyword.\n",
    "\t\t* an identifier should not start with a number.\n",
    "\t\t* an identifier should not contain any special character except _."
   ]
  },
  {
   "attachments": {},
   "cell_type": "markdown",
   "id": "3f1405f6",
   "metadata": {},
   "source": [
    "    Day 5"
   ]
  },
  {
   "attachments": {},
   "cell_type": "markdown",
   "id": "c000d96c",
   "metadata": {},
   "source": [
    "1. What is difference between shallow copy and deep copy?\n",
    "\n",
    "\t\tNew = nums.copy()\n",
    "\t\tNew = copy.deepcopy(nums)"
   ]
  },
  {
   "attachments": {},
   "cell_type": "markdown",
   "id": "998532f2",
   "metadata": {},
   "source": [
    "2. You want to create a library management application, you need to store data about books, students in your program, how will you store data inside python using list? Create some lists with fake data to store information about library management.\n",
    "\n",
    "\t\tData = [\t[1, ‘Pranav’ ,’Mistborn’],\n",
    "\t\t\t\t[2, ‘Sagnik’, ‘Stormlight’],\n",
    "\t\t\t\t[3, ‘Rajat’, ‘Cosmere’]\t\t]\n"
   ]
  },
  {
   "attachments": {},
   "cell_type": "markdown",
   "id": "6a7c62dd",
   "metadata": {},
   "source": [
    "3. This chapter introduced assignment statements, like spam = 10. What is the difference between an expression and a statement?\n",
    "\n",
    "\tExpression can be any combination of value, symbol, character. However when that expression is stored or assigned to someone it becomes a statement."
   ]
  },
  {
   "attachments": {},
   "cell_type": "markdown",
   "id": "4111856b",
   "metadata": {},
   "source": [
    "4. Define following:-\n",
    "        a. Atomic data types / Primary data types\n",
    "        b. Secondary data type / User Defined Data Type\n",
    "\n",
    "        A.These are the simplest form of data that cannot be broken down to any more simpler data. Ex - integer, boolean, float.\n",
    "        B.These are made through a collection of atomic data types. Ex - list, string, set, dictionary."
   ]
  },
  {
   "attachments": {},
   "cell_type": "markdown",
   "id": "c0b5c65d",
   "metadata": {},
   "source": [
    "5. What is UDF?\n",
    "\n",
    "\tUser Defined Function. A function that is made by the user and can be used by only him."
   ]
  },
  {
   "attachments": {},
   "cell_type": "markdown",
   "id": "de16e31e",
   "metadata": {},
   "source": [
    "    Day 6"
   ]
  },
  {
   "attachments": {},
   "cell_type": "markdown",
   "id": "d56a5aef",
   "metadata": {},
   "source": [
    "1. Write down 10 projects ideas you want to implement using python\n",
    "\n",
    "    1. Tic tac toe game\n",
    "    2. Library management system\n",
    "    3. Song recommender system\n",
    "    4. House price prediction\n",
    "    5. Weather forecasting app\n",
    "    6. Scientific calculator\n",
    "    7. Snake game\n",
    "    8. Bot (Reddit, Whatsapp)\n",
    "    9. Sudoku \n",
    "    10. Countdown clock and timer"
   ]
  },
  {
   "attachments": {},
   "cell_type": "markdown",
   "id": "974a8c56",
   "metadata": {},
   "source": [
    "3. What is duck typing in python, what are Dunder or special methods?\n",
    "\n",
    "\t\tDuck typing is a concept related to dynamic typing, where the type or the class of an object is less important than the method it defines. Using duck typing, we do not check types at all. Instead we check for the presence of a given method or attribute.\n",
    "\n",
    "\t\tMethods that allow instances of a class to interact with the built-in functions and operators in python are called dunder methods. Ex -> __add__, __str__"
   ]
  },
  {
   "attachments": {},
   "cell_type": "markdown",
   "id": "ecb162af",
   "metadata": {},
   "source": [
    "4. What are operators? How many types of operators are there in python?\n",
    "\n",
    "\t\tOperators are special symbols that designate that some sort of computation should be performed.\n",
    "        There are 9 types of operators in python:-\n",
    "        1. Assignment \n",
    "        2. Relational\n",
    "        3. Logical\n",
    "        4. Arithmetic\n",
    "        5. Membership\n",
    "        6. Identity\n",
    "        7. Bitwise\n",
    "        8. Shift \n",
    "        9. Unary"
   ]
  },
  {
   "attachments": {},
   "cell_type": "markdown",
   "id": "d2e764c8",
   "metadata": {},
   "source": [
    "    Day 8"
   ]
  },
  {
   "attachments": {},
   "cell_type": "markdown",
   "id": "6291dc71",
   "metadata": {},
   "source": [
    "1. What are the two values of the Boolean data type? How do you write them?\n",
    "\n",
    "\t\tTrue/False"
   ]
  },
  {
   "attachments": {},
   "cell_type": "markdown",
   "id": "4f52ccaf",
   "metadata": {},
   "source": [
    "2. What are the three Boolean operators?\n",
    "\n",
    "\t\tAnd, Or, Not"
   ]
  },
  {
   "attachments": {},
   "cell_type": "markdown",
   "id": "a66d9acd",
   "metadata": {},
   "source": [
    "3. Write out the truth tables of each Boolean operator (that is, every possible combination of Boolean values for the operator and what they evaluate to).\n",
    "\n",
    "\t\tAnd : T/T -> T, T/F -> F, F/T -> F, F/F -> F\n",
    "\t\tOr : T/T -> T, T/F -> T, F/T -> T, F/F -> F\n",
    "\t\tNot : T -> F, F -> T"
   ]
  },
  {
   "attachments": {},
   "cell_type": "markdown",
   "id": "4933a1df",
   "metadata": {},
   "source": [
    "4. What do the following expressions evaluate to?\n",
    "\n",
    "        (5 > 4) and (3 == 5) ---> False\n",
    "        not (5 > 4) ---> False\n",
    "        (5 > 4) or (3 == 5)\t---> True\n",
    "        not ((5 > 4) or (3 == 5)) ---> False\n",
    "        (True and True) and (True == False) ---> False\n",
    "        (not False) or (not True) ---> True"
   ]
  },
  {
   "attachments": {},
   "cell_type": "markdown",
   "id": "100d1c57",
   "metadata": {},
   "source": [
    "5. What are the six comparison operators?\n",
    "\t\n",
    "\t\t>, <, >=, <=, !=, =="
   ]
  },
  {
   "attachments": {},
   "cell_type": "markdown",
   "id": "d3738f32",
   "metadata": {},
   "source": [
    "6. What is the difference between the equal to operator and the assignment operator?\n",
    "\n",
    "\t\t= :- used to assign a value to an identifier. Does not return a value.\n",
    "\t\t== :- used to check whether 2 identifiers have same value. Returns boolean value."
   ]
  },
  {
   "attachments": {},
   "cell_type": "markdown",
   "id": "2832cb6e",
   "metadata": {},
   "source": [
    "7. Explain what a condition is and where you would use one.\n",
    "\n",
    "\tCondition is a statement where we check whether certain criteria is fulfilled or not. We can use it to check whether a number is odd or even in if - elif - else."
   ]
  },
  {
   "attachments": {},
   "cell_type": "markdown",
   "id": "17dbbec4",
   "metadata": {},
   "source": [
    "    Day 9"
   ]
  },
  {
   "cell_type": "code",
   "execution_count": 6,
   "id": "804eef69",
   "metadata": {},
   "outputs": [
    {
     "name": "stdout",
     "output_type": "stream",
     "text": [
      "+ve number\n"
     ]
    }
   ],
   "source": [
    "# 1. Write a Python program to check whether a number is negative, positive or zero.\n",
    "n=int(input(\"Enter a number: \"))\n",
    "if n>0:\n",
    "    print(\"+ve number\")\n",
    "elif n<0:\n",
    "    print(\"-ve number\")\n",
    "else:\n",
    "    print(\"The number is 0\")"
   ]
  },
  {
   "cell_type": "code",
   "execution_count": 7,
   "id": "6de1445a",
   "metadata": {},
   "outputs": [
    {
     "name": "stdout",
     "output_type": "stream",
     "text": [
      "no is divisible by 5 and 11\n"
     ]
    }
   ],
   "source": [
    "# 2. Write a Python program to check whether a number is divisible by 5 and 11 or not.\n",
    "n=int(input(\"Enter a number: \"))\n",
    "if n%55==0:\n",
    "    print(\"no is divisible by 5 and 11\")\n",
    "else:\n",
    "    print(\"no is not divisible by 5 and 11\")"
   ]
  },
  {
   "cell_type": "code",
   "execution_count": 8,
   "id": "0abeb683",
   "metadata": {},
   "outputs": [
    {
     "name": "stdout",
     "output_type": "stream",
     "text": [
      "It is a leap year\n"
     ]
    }
   ],
   "source": [
    "# 3. Write a Python program to check whether a year is leap year or not.\n",
    "n=int(input(\"Enter a year: \"))\n",
    "if n%100==0:\n",
    "    if n%4==0:\n",
    "        print('It is a leap year')\n",
    "    else:\n",
    "        print('It is not a leap year')\n",
    "elif n%4==0:\n",
    "    print('It is a leap year')\n",
    "else:\n",
    "    print(\"It is not a leap year\")"
   ]
  },
  {
   "cell_type": "code",
   "execution_count": 9,
   "id": "a7243b3b",
   "metadata": {},
   "outputs": [
    {
     "name": "stdout",
     "output_type": "stream",
     "text": [
      "It is an alphabet\n"
     ]
    }
   ],
   "source": [
    "# 4. Write a Python program to check whether a character is alphabet or not.\n",
    "n=input(\"Enter a character: \")\n",
    "if ord(n) in range(97,122) or range(65,90):\n",
    "    print(\"It is an alphabet\")\n",
    "else:\n",
    "    print(\"It is not an alphabet\")"
   ]
  },
  {
   "cell_type": "code",
   "execution_count": 10,
   "id": "b01f690b",
   "metadata": {},
   "outputs": [
    {
     "name": "stdout",
     "output_type": "stream",
     "text": [
      "It is a vowel\n"
     ]
    }
   ],
   "source": [
    "# 5. Write a Python program to input any alphabet and check whether it is vowel or consonant.\n",
    "n=input(\"Enter a character: \")\n",
    "if ord(n) in range(97,122) or range(65,90):\n",
    "    if n in 'aeiou' or 'AEIOU':\n",
    "        print(\"It is a vowel\")\n",
    "    else:\n",
    "        print(\"It is a consonant\")\n",
    "else:\n",
    "    print(\"It is not an alphabet\")"
   ]
  },
  {
   "cell_type": "code",
   "execution_count": 11,
   "id": "16f70741",
   "metadata": {},
   "outputs": [
    {
     "name": "stdout",
     "output_type": "stream",
     "text": [
      "It is a special character\n"
     ]
    }
   ],
   "source": [
    "# 6. Write a Python program to input any character and check whether it is alphabet, digit or special character.\n",
    "n=input(\"Enter a character: \")\n",
    "if (ord(n) in range(97,122)) or (ord(n) in range(65,90)):\n",
    "    print(\"It is an alphabet\")\n",
    "elif ord(n) in range(48,57):\n",
    "    print(\"It is a digit\")\n",
    "else:\n",
    "    print(\"It is a special character\")"
   ]
  },
  {
   "cell_type": "code",
   "execution_count": 12,
   "id": "7aa7dde9",
   "metadata": {},
   "outputs": [
    {
     "name": "stdout",
     "output_type": "stream",
     "text": [
      "It is lowercase alphabet\n"
     ]
    }
   ],
   "source": [
    "# 7. Write a Python program to check whether a character is uppercase or lowercase alphabet.\n",
    "n=input(\"Enter a character: \")\n",
    "if n.isupper():\n",
    "    print('It is uppercase alphabet')\n",
    "elif n.islower():\n",
    "    print(\"It is lowercase alphabet\")\n",
    "else:\n",
    "    print(\"It is not an alphabet\")"
   ]
  },
  {
   "cell_type": "code",
   "execution_count": 14,
   "id": "a9ed2f53",
   "metadata": {},
   "outputs": [
    {
     "name": "stdout",
     "output_type": "stream",
     "text": [
      "sunday\n"
     ]
    }
   ],
   "source": [
    "# 8. Write a Python program to input week number and print weekday.\n",
    "n= int(input(\"Enter weekno: \"))\n",
    "week=['sunday', 'monday', 'tuesday', 'wednesday', 'thrusday', 'friday', 'saturday']\n",
    "print(week[n-1])"
   ]
  },
  {
   "cell_type": "code",
   "execution_count": 15,
   "id": "7f46cac4",
   "metadata": {},
   "outputs": [
    {
     "name": "stdout",
     "output_type": "stream",
     "text": [
      "Invalid triangle\n"
     ]
    }
   ],
   "source": [
    "# 9. Write a Python program to input angles of a triangle and check whether triangle is valid or not.\n",
    "a=int(input('Enter 1st angle of triangle'))\n",
    "b=int(input('Enter 2nd angle of triangle'))\n",
    "c=int(input('Enter 3rd angle of triangle'))\n",
    "if (a+b+c)==180:\n",
    "    print('It is a valid triangle')\n",
    "else:\n",
    "    print('Invalid triangle')\n"
   ]
  },
  {
   "cell_type": "code",
   "execution_count": 16,
   "id": "04209ed0",
   "metadata": {},
   "outputs": [
    {
     "name": "stdout",
     "output_type": "stream",
     "text": [
      "It is a valid triangle\n"
     ]
    }
   ],
   "source": [
    "# 10. Write a Python program to input all sides of a triangle and check whether triangle is valid or not.\n",
    "a=int(input('Enter side length of triangle'))\n",
    "b=int(input('Enter side length of triangle'))\n",
    "c=int(input('Enter side length of triangle'))\n",
    "if a+b>c or b+c>a or c+a>b:\n",
    "    print('It is a valid triangle')\n",
    "else:\n",
    "    print('Invalid triangle')"
   ]
  },
  {
   "cell_type": "code",
   "execution_count": 17,
   "id": "5c03a182",
   "metadata": {},
   "outputs": [
    {
     "name": "stdout",
     "output_type": "stream",
     "text": [
      "It is an isoceles triangle\n"
     ]
    }
   ],
   "source": [
    "# 11. Write a Python program to check whether the triangle is equilateral, isosceles or scalene triangle.\n",
    "a=int(input('Enter side length of triangle'))\n",
    "b=int(input('Enter side length of triangle'))\n",
    "c=int(input('Enter side length of triangle'))\n",
    "if a==b==c:\n",
    "    print('It is an equilateral triangle')\n",
    "elif a==b or b==c or c==a:\n",
    "    print('It is an isoceles triangle')\n",
    "else:\n",
    "    print(\"It is a scalene triangle\")"
   ]
  },
  {
   "cell_type": "code",
   "execution_count": 18,
   "id": "c81e8e2f",
   "metadata": {},
   "outputs": [
    {
     "name": "stdout",
     "output_type": "stream",
     "text": [
      "Enter marks in 5 subjects: \n",
      "Grade F\n"
     ]
    }
   ],
   "source": [
    "# 12.Write a Python program to input marks of five subjects Physics, Chemistry, Biology, Mathematics and Computer. Calculate percentage and grade according to following: \n",
    "#                    Percentage >= 90% : Grade A\n",
    "#                    Percentage >= 80% : Grade B \n",
    "#                    Percentage >= 70% : Grade C \n",
    "#                    Percentage >= 60% : Grade D \n",
    "#                    Percentage >= 40% : Grade E \n",
    "#                    Percentage < 40% : Grade F\n",
    "\n",
    "print('Enter marks in 5 subjects: ')\n",
    "l=[]\n",
    "for i in range(0,5):\n",
    "    l.append(int(input(i)))\n",
    "    avg=sum(l)/5\n",
    "if avg>=90:\n",
    "    print(\"Grade A\")\n",
    "elif avg>=80:\n",
    "    print(\"Grade B\")\n",
    "elif avg>=70:\n",
    "    print(\"Grade C\")\n",
    "elif avg>=60:\n",
    "    print(\"Grade D\")\n",
    "elif avg>=40:\n",
    "    print(\"Grade E\")\n",
    "else:\n",
    "    print(\"Grade F\")"
   ]
  },
  {
   "cell_type": "code",
   "execution_count": 19,
   "id": "9b5732a3",
   "metadata": {},
   "outputs": [
    {
     "name": "stdout",
     "output_type": "stream",
     "text": [
      "Gross salary:  10000.0\n"
     ]
    }
   ],
   "source": [
    "# 13. Write a Python program to input basic salary of an employee and calculate its Gross salary according to following: \n",
    "#                Basic Salary <= 10000 : HRA = 20%, DA = 80% \n",
    "#                Basic Salary <= 20000 : HRA = 25%, DA = 90% \n",
    "#                Basic Salary > 20000 : HRA = 30%, DA = 95%\n",
    "\n",
    "bs=int(input('Enter basic salary'))\n",
    "if bs<=10000:\n",
    "    gs=bs*2.0\n",
    "elif bs<=20000:\n",
    "    gs=bs*2.15\n",
    "else:\n",
    "    gs=bs*2.25\n",
    "print(\"Gross salary: \",gs)\n"
   ]
  },
  {
   "cell_type": "code",
   "execution_count": 20,
   "id": "8a5e2ccb",
   "metadata": {},
   "outputs": [
    {
     "name": "stdout",
     "output_type": "stream",
     "text": [
      "Bill:  192.0\n"
     ]
    }
   ],
   "source": [
    "# 14. Write a Python Program to input electricity unit charges and calculate total electricity bill according to the given condition: \n",
    "# For first 50 units Rs. 0.50/unit\n",
    "# For next 100 units Rs. 0.75/unit\n",
    "# For next 100 units Rs. 1.20/unit\n",
    "# For unit above 250 Rs. 1.50/unit\n",
    "# An additional surcharge of 20% is added to the bill\n",
    "\n",
    "unit=int(input('Enter unit charges: '))\n",
    "if unit<=50:\n",
    "    bill=unit*0.5\n",
    "elif unit<=150:\n",
    "    bill=50*0.5+(unit-50)*0.75\n",
    "elif unit<=250:\n",
    "    bill=50*0.5+100*0.75+(unit-150)*1.20\n",
    "else:\n",
    "    bill=50*0.5+100*0.75+100*1.20+(unit-250)*1.50\n",
    "print(\"Bill: \",bill*1.20)\n"
   ]
  },
  {
   "attachments": {},
   "cell_type": "markdown",
   "id": "aa503bf6",
   "metadata": {},
   "source": [
    "    Day 10"
   ]
  },
  {
   "cell_type": "code",
   "execution_count": 21,
   "id": "c7dbad92",
   "metadata": {},
   "outputs": [
    {
     "name": "stdout",
     "output_type": "stream",
     "text": [
      "Palindrome no\n"
     ]
    }
   ],
   "source": [
    "# 1. Python Program to Check Palindrome Number\n",
    "n=int(input(\"Enter a no: \"))\n",
    "m=n\n",
    "s=0\n",
    "while n:\n",
    "    a=n%10\n",
    "    s=s*10+a\n",
    "    n=n//10\n",
    "if s==m:\n",
    "    print(\"Palindrome no\")\n",
    "else:\n",
    "    print(\"Not a palindrome no\")"
   ]
  },
  {
   "cell_type": "code",
   "execution_count": 23,
   "id": "65a5c4e0",
   "metadata": {},
   "outputs": [
    {
     "name": "stdout",
     "output_type": "stream",
     "text": [
      "10, 12, 15, 18, 20, "
     ]
    }
   ],
   "source": [
    "# 2. Python Program to Print all multiples of 3 and 5 in an Interval\n",
    "a=int(input(\"Enter lower bound: \"))\n",
    "b=int(input(\"Enter upper bound: \"))\n",
    "for i in range(a,b+1):\n",
    "    if(i%3==0 or i%5==0):\n",
    "        print(i,end=', ')"
   ]
  },
  {
   "cell_type": "code",
   "execution_count": 24,
   "id": "816f267c",
   "metadata": {},
   "outputs": [
    {
     "name": "stdout",
     "output_type": "stream",
     "text": [
      "Factorial:  24\n"
     ]
    }
   ],
   "source": [
    "# 3. Python Program to Find the Factorial of a Number\n",
    "n=int(input(\"Enter a number: \"))\n",
    "p=1\n",
    "for i in range(2,n+1):\n",
    "    p=p*i\n",
    "print(\"Factorial: \",p)"
   ]
  },
  {
   "cell_type": "code",
   "execution_count": 25,
   "id": "61d4af49",
   "metadata": {},
   "outputs": [
    {
     "name": "stdout",
     "output_type": "stream",
     "text": [
      "Fibonacci series: , 0, 1, 1, 2, 3, 5, 8, 13, 21, 34, "
     ]
    }
   ],
   "source": [
    "# 4. Python Program to Print the Fibonacci sequence\n",
    "n=int(input(\"How many fibonacci no do you want: \"))\n",
    "a=0\n",
    "b=1\n",
    "print(\"Fibonacci series: \",a,b,end=', ',sep=', ')\n",
    "for i in range(2,n):\n",
    "    c=a+b\n",
    "    print(c,end=', ')\n",
    "    a=b\n",
    "    b=c"
   ]
  },
  {
   "cell_type": "code",
   "execution_count": 26,
   "id": "6b9bd7ca",
   "metadata": {},
   "outputs": [
    {
     "name": "stdout",
     "output_type": "stream",
     "text": [
      "Armstrong no\n"
     ]
    }
   ],
   "source": [
    "# 5. Python Program to Check Armstrong Number\n",
    "n=int(input(\"Enter a no: \"))\n",
    "m=n\n",
    "s=0\n",
    "while n:\n",
    "    a=n%10\n",
    "    s=s+a**3\n",
    "    n=n//10\n",
    "if s==m:\n",
    "    print(\"Armstrong no\")\n",
    "else:\n",
    "    print(\"Not an Armstrong no\")"
   ]
  },
  {
   "cell_type": "markdown",
   "id": "50dfdea2",
   "metadata": {},
   "source": [
    "    Day 11"
   ]
  },
  {
   "cell_type": "code",
   "execution_count": 16,
   "id": "0cd55613",
   "metadata": {},
   "outputs": [
    {
     "name": "stdout",
     "output_type": "stream",
     "text": [
      "*\n",
      "**\n",
      "***\n",
      "****\n",
      "*****\n"
     ]
    }
   ],
   "source": [
    "i=1\n",
    "while i<=5:\n",
    "    s='*'*i\n",
    "    print(s)\n",
    "    i=i+1"
   ]
  },
  {
   "cell_type": "code",
   "execution_count": 18,
   "id": "0eff706a",
   "metadata": {},
   "outputs": [
    {
     "name": "stdout",
     "output_type": "stream",
     "text": [
      "1\n",
      "22\n",
      "333\n",
      "4444\n",
      "55555\n"
     ]
    }
   ],
   "source": [
    "i=1\n",
    "while i<=5:\n",
    "    s=str(i)*i\n",
    "    print(s)\n",
    "    i=i+1"
   ]
  },
  {
   "cell_type": "code",
   "execution_count": 20,
   "id": "217edc8d",
   "metadata": {},
   "outputs": [
    {
     "name": "stdout",
     "output_type": "stream",
     "text": [
      "1\n",
      "12\n",
      "123\n",
      "1234\n",
      "12345\n"
     ]
    }
   ],
   "source": [
    "for i in range(1,6):\n",
    "    for j in range(1,i+1):\n",
    "        print(j,end='')\n",
    "    print()"
   ]
  },
  {
   "cell_type": "code",
   "execution_count": 22,
   "id": "ecf9a2d0",
   "metadata": {},
   "outputs": [
    {
     "name": "stdout",
     "output_type": "stream",
     "text": [
      "2\n",
      "34\n",
      "456\n",
      "5678\n",
      "678910\n"
     ]
    }
   ],
   "source": [
    "for i in range(1,6):\n",
    "    for j in range(1,i+1):\n",
    "        print(j+i,end='')\n",
    "    print()"
   ]
  },
  {
   "cell_type": "code",
   "execution_count": 25,
   "id": "db25fd9a",
   "metadata": {},
   "outputs": [
    {
     "name": "stdout",
     "output_type": "stream",
     "text": [
      "1\n",
      "01\n",
      "101\n",
      "0101\n",
      "10101\n"
     ]
    }
   ],
   "source": [
    "for i in range(1,6):\n",
    "    for j in range(1,i+1):\n",
    "        if (i+j)%2==0:\n",
    "            print(1,end='')\n",
    "        else:\n",
    "            print(0,end='')\n",
    "    print()"
   ]
  },
  {
   "cell_type": "code",
   "execution_count": 28,
   "id": "e3dd11c9",
   "metadata": {},
   "outputs": [
    {
     "name": "stdout",
     "output_type": "stream",
     "text": [
      "1\n",
      "23\n",
      "456\n",
      "78910\n",
      "1112131415\n"
     ]
    }
   ],
   "source": [
    "n=0\n",
    "for i in range(1,6):\n",
    "    for j in range(1,i+1):\n",
    "        n=n+1\n",
    "        print(n,end='')\n",
    "    print()"
   ]
  },
  {
   "cell_type": "code",
   "execution_count": 33,
   "id": "2c311a9d",
   "metadata": {},
   "outputs": [
    {
     "name": "stdout",
     "output_type": "stream",
     "text": [
      "\n",
      "5\n",
      "54\n",
      "543\n",
      "5432\n",
      "54321\n"
     ]
    }
   ],
   "source": [
    "for i in range(5,-1,-1):\n",
    "    for j in range(5,i,-1):\n",
    "        print(j,end='')\n",
    "    print()"
   ]
  },
  {
   "cell_type": "code",
   "execution_count": 37,
   "id": "d3dfb9fd",
   "metadata": {},
   "outputs": [
    {
     "name": "stdout",
     "output_type": "stream",
     "text": [
      "5\n",
      "44\n",
      "333\n",
      "2222\n",
      "11111\n"
     ]
    }
   ],
   "source": [
    "i=1\n",
    "n=5\n",
    "while i<=5:\n",
    "    s=str(n)*i\n",
    "    print(s)\n",
    "    i=i+1\n",
    "    n=n-1"
   ]
  },
  {
   "cell_type": "code",
   "execution_count": 38,
   "id": "697200b7",
   "metadata": {},
   "outputs": [
    {
     "name": "stdout",
     "output_type": "stream",
     "text": [
      "*****\n",
      "****\n",
      "***\n",
      "**\n",
      "*\n"
     ]
    }
   ],
   "source": [
    "i=5\n",
    "while i>=1:\n",
    "    s='*'*i\n",
    "    print(s)\n",
    "    i=i-1"
   ]
  },
  {
   "cell_type": "code",
   "execution_count": 79,
   "id": "f37338df",
   "metadata": {},
   "outputs": [
    {
     "name": "stdout",
     "output_type": "stream",
     "text": [
      "11111\n",
      "2222\n",
      "333\n",
      "22\n",
      "1\n"
     ]
    }
   ],
   "source": [
    "i=5\n",
    "n=1\n",
    "while i>=1:\n",
    "    s=str(n)*i\n",
    "    print(s)\n",
    "    if i<=5//2+1:\n",
    "        n=n-1\n",
    "    else:\n",
    "        n=n+1\n",
    "    i=i-1"
   ]
  },
  {
   "cell_type": "code",
   "execution_count": 39,
   "id": "495e8592",
   "metadata": {},
   "outputs": [
    {
     "name": "stdout",
     "output_type": "stream",
     "text": [
      "12345\n",
      "1234\n",
      "123\n",
      "12\n",
      "1\n",
      "\n"
     ]
    }
   ],
   "source": [
    "for i in range(6,0,-1):\n",
    "    for j in range(1,i):\n",
    "        print(j,end='')\n",
    "    print()"
   ]
  },
  {
   "cell_type": "code",
   "execution_count": 40,
   "id": "068e0e6d",
   "metadata": {},
   "outputs": [
    {
     "name": "stdout",
     "output_type": "stream",
     "text": [
      "55555\n",
      "4444\n",
      "333\n",
      "22\n",
      "1\n"
     ]
    }
   ],
   "source": [
    "i=5\n",
    "n=5\n",
    "while i>=1:\n",
    "    s=str(n)*i\n",
    "    print(s)\n",
    "    i=i-1\n",
    "    n=n-1"
   ]
  },
  {
   "cell_type": "code",
   "execution_count": 42,
   "id": "057a0941",
   "metadata": {},
   "outputs": [
    {
     "name": "stdout",
     "output_type": "stream",
     "text": [
      "54321\n",
      "5432\n",
      "543\n",
      "54\n",
      "5\n"
     ]
    }
   ],
   "source": [
    "for i in range(0,5):\n",
    "    for j in range(5,i,-1):\n",
    "        print(j,end='')\n",
    "    print()"
   ]
  },
  {
   "cell_type": "code",
   "execution_count": 51,
   "id": "259be8e8",
   "metadata": {},
   "outputs": [
    {
     "name": "stdout",
     "output_type": "stream",
     "text": [
      "    *     \n",
      "   * *    \n",
      "  * * *   \n",
      " * * * *  \n",
      "* * * * * \n"
     ]
    }
   ],
   "source": [
    "i=1\n",
    "while i<=5:\n",
    "    s='* '*i\n",
    "    print(s.center(10))\n",
    "    i=i+1"
   ]
  },
  {
   "cell_type": "code",
   "execution_count": 54,
   "id": "9009afbc",
   "metadata": {},
   "outputs": [
    {
     "name": "stdout",
     "output_type": "stream",
     "text": [
      "    1     \n",
      "   1 2    \n",
      "  1 2 3   \n",
      " 1 2 3 4  \n",
      "1 2 3 4 5 \n"
     ]
    }
   ],
   "source": [
    "for i in range(1,6):\n",
    "    s=''\n",
    "    for j in range(1,i+1):\n",
    "        s=s+str(j)+' '\n",
    "    print(s.center(10))"
   ]
  },
  {
   "cell_type": "code",
   "execution_count": 55,
   "id": "f2073f28",
   "metadata": {},
   "outputs": [
    {
     "name": "stdout",
     "output_type": "stream",
     "text": [
      "    *\n",
      "   **\n",
      "  ***\n",
      " ****\n",
      "*****\n"
     ]
    }
   ],
   "source": [
    "i=1\n",
    "while i<=5:\n",
    "    s='*'*i\n",
    "    print(s.rjust(5))\n",
    "    i=i+1"
   ]
  },
  {
   "cell_type": "code",
   "execution_count": 56,
   "id": "8ab3eac9",
   "metadata": {},
   "outputs": [
    {
     "name": "stdout",
     "output_type": "stream",
     "text": [
      "    1\n",
      "   12\n",
      "  123\n",
      " 1234\n",
      "12345\n"
     ]
    }
   ],
   "source": [
    "for i in range(1,6):\n",
    "    s=''\n",
    "    for j in range(1,i+1):\n",
    "        s=s+str(j)\n",
    "    print(s.rjust(5))"
   ]
  },
  {
   "cell_type": "code",
   "execution_count": 58,
   "id": "20bf95c3",
   "metadata": {},
   "outputs": [
    {
     "name": "stdout",
     "output_type": "stream",
     "text": [
      "    *     \n",
      "   ***    \n",
      "  *****   \n",
      " *******  \n",
      "********* \n"
     ]
    }
   ],
   "source": [
    "for i in range(1,6):\n",
    "    s=''\n",
    "    for j in range(1,2*i):\n",
    "        s=s+'*'\n",
    "    print(s.center(10))"
   ]
  },
  {
   "cell_type": "code",
   "execution_count": 59,
   "id": "5d43c080",
   "metadata": {},
   "outputs": [
    {
     "name": "stdout",
     "output_type": "stream",
     "text": [
      "    1     \n",
      "   222    \n",
      "  33333   \n",
      " 4444444  \n",
      "555555555 \n"
     ]
    }
   ],
   "source": [
    "n=1\n",
    "for i in range(1,6):\n",
    "    s=''\n",
    "    for j in range(1,2*i):\n",
    "        s=s+str(n)\n",
    "    print(s.center(10))\n",
    "    n=n+1"
   ]
  },
  {
   "cell_type": "code",
   "execution_count": 57,
   "id": "e7a2cf08",
   "metadata": {},
   "outputs": [
    {
     "name": "stdout",
     "output_type": "stream",
     "text": [
      "    1     \n",
      "   123    \n",
      "  12345   \n",
      " 1234567  \n",
      "123456789 \n"
     ]
    }
   ],
   "source": [
    "for i in range(1,6):\n",
    "    s=''\n",
    "    for j in range(1,2*i):\n",
    "        s=s+str(j)\n",
    "    print(s.center(10))"
   ]
  },
  {
   "cell_type": "code",
   "execution_count": 60,
   "id": "ebef37bc",
   "metadata": {},
   "outputs": [
    {
     "name": "stdout",
     "output_type": "stream",
     "text": [
      "         *          \n",
      "       * * *        \n",
      "     * * * * *      \n",
      "   * * * * * * *    \n",
      " * * * * * * * * *  \n"
     ]
    }
   ],
   "source": [
    "for i in range(1,6):\n",
    "    s=''\n",
    "    for j in range(1,2*i):\n",
    "        s=s+'* '\n",
    "    print(s.center(20))"
   ]
  },
  {
   "cell_type": "code",
   "execution_count": 83,
   "id": "a941d370",
   "metadata": {},
   "outputs": [
    {
     "name": "stdout",
     "output_type": "stream",
     "text": [
      "    1     \n",
      "   232    \n",
      "  34543   \n",
      " 4567654  \n",
      "567898765 \n"
     ]
    }
   ],
   "source": [
    "n=0\n",
    "for i in range(1,6):\n",
    "    st=''\n",
    "    for j in range(1,2*i):\n",
    "        if j<=i:\n",
    "            n=n+1\n",
    "        else:\n",
    "            n=n-1\n",
    "        st=st+str(n)\n",
    "    print(st.center(10))"
   ]
  },
  {
   "cell_type": "code",
   "execution_count": 85,
   "id": "de8928b7",
   "metadata": {},
   "outputs": [
    {
     "name": "stdout",
     "output_type": "stream",
     "text": [
      "    5     \n",
      "   545    \n",
      "  54345   \n",
      " 5432345  \n",
      "543212345 \n"
     ]
    }
   ],
   "source": [
    "for i in range(1,6):\n",
    "    st=''\n",
    "    n=6\n",
    "    for j in range(1,2*i):\n",
    "        if j<=i:\n",
    "            n=n-1\n",
    "        else:\n",
    "            n=n+1\n",
    "        st=st+str(n)\n",
    "    print(st.center(10))"
   ]
  },
  {
   "cell_type": "code",
   "execution_count": 62,
   "id": "eb672a16",
   "metadata": {},
   "outputs": [
    {
     "name": "stdout",
     "output_type": "stream",
     "text": [
      "********* \n",
      " *******  \n",
      "  *****   \n",
      "   ***    \n",
      "    *     \n"
     ]
    }
   ],
   "source": [
    "for i in range(5,0,-1):\n",
    "    s=''\n",
    "    for j in range(1,2*i):\n",
    "        s=s+'*'\n",
    "    print(s.center(10))"
   ]
  },
  {
   "cell_type": "code",
   "execution_count": 64,
   "id": "3d48f1df",
   "metadata": {},
   "outputs": [
    {
     "name": "stdout",
     "output_type": "stream",
     "text": [
      "555555555 \n",
      " 4444444  \n",
      "  33333   \n",
      "   222    \n",
      "    1     \n"
     ]
    }
   ],
   "source": [
    "n=5\n",
    "for i in range(5,0,-1):\n",
    "    s=''\n",
    "    for j in range(1,2*i):\n",
    "        s=s+str(n)\n",
    "    print(s.center(10))\n",
    "    n=n-1"
   ]
  },
  {
   "cell_type": "code",
   "execution_count": 65,
   "id": "e9197b4f",
   "metadata": {},
   "outputs": [
    {
     "name": "stdout",
     "output_type": "stream",
     "text": [
      "123456789 \n",
      " 1234567  \n",
      "  12345   \n",
      "   123    \n",
      "    1     \n"
     ]
    }
   ],
   "source": [
    "for i in range(5,0,-1):\n",
    "    s=''\n",
    "    for j in range(1,2*i):\n",
    "        s=s+str(j)\n",
    "    print(s.center(10))"
   ]
  },
  {
   "cell_type": "code",
   "execution_count": 89,
   "id": "d8af0361",
   "metadata": {},
   "outputs": [
    {
     "name": "stdout",
     "output_type": "stream",
     "text": [
      "567898765 \n",
      " 4567654  \n",
      "  34543   \n",
      "   232    \n",
      "    1     \n"
     ]
    }
   ],
   "source": [
    "for i in range(5,0,-1):\n",
    "    st=''\n",
    "    n=i-1\n",
    "    for j in range(1,2*i):\n",
    "        if j<=i:\n",
    "            n=n+1\n",
    "        else:\n",
    "            n=n-1\n",
    "        st=st+str(n)\n",
    "    print(st.center(10))"
   ]
  },
  {
   "cell_type": "code",
   "execution_count": 92,
   "id": "8c84b7a8",
   "metadata": {},
   "outputs": [
    {
     "name": "stdout",
     "output_type": "stream",
     "text": [
      "543212345 \n",
      " 5432345  \n",
      "  54345   \n",
      "   545    \n",
      "    5     \n"
     ]
    }
   ],
   "source": [
    "for i in range(5,0,-1):\n",
    "    st=''\n",
    "    n=6\n",
    "    for j in range(1,2*i):\n",
    "        if j<=i:\n",
    "            n=n-1\n",
    "        else:\n",
    "            n=n+1\n",
    "        st=st+str(n)\n",
    "    print(st.center(10))"
   ]
  },
  {
   "cell_type": "code",
   "execution_count": 93,
   "id": "8f0a0458",
   "metadata": {},
   "outputs": [
    {
     "name": "stdout",
     "output_type": "stream",
     "text": [
      "    *     \n",
      "   ***    \n",
      "  *****   \n",
      " *******  \n",
      "********* \n",
      " *******  \n",
      "  *****   \n",
      "   ***    \n",
      "    *     \n"
     ]
    }
   ],
   "source": [
    "for i in range(1,6):\n",
    "    s=''\n",
    "    for j in range(1,2*i):\n",
    "        s=s+'*'\n",
    "    print(s.center(10))\n",
    "for i in range(4,0,-1):\n",
    "    s=''\n",
    "    for j in range(1,2*i):\n",
    "        s=s+'*'\n",
    "    print(s.center(10))"
   ]
  },
  {
   "cell_type": "code",
   "execution_count": 94,
   "id": "036d6fac",
   "metadata": {},
   "outputs": [
    {
     "name": "stdout",
     "output_type": "stream",
     "text": [
      "    1     \n",
      "   222    \n",
      "  33333   \n",
      " 4444444  \n",
      "555555555 \n",
      " 4444444  \n",
      "  33333   \n",
      "   222    \n",
      "    1     \n"
     ]
    }
   ],
   "source": [
    "n=1\n",
    "for i in range(1,6):\n",
    "    s=''\n",
    "    for j in range(1,2*i):\n",
    "        s=s+str(n)\n",
    "    print(s.center(10))\n",
    "    n=n+1\n",
    "n=4\n",
    "for i in range(4,0,-1):\n",
    "    s=''\n",
    "    for j in range(1,2*i):\n",
    "        s=s+str(n)\n",
    "    print(s.center(10))\n",
    "    n=n-1"
   ]
  },
  {
   "cell_type": "code",
   "execution_count": 95,
   "id": "5e21a081",
   "metadata": {},
   "outputs": [
    {
     "name": "stdout",
     "output_type": "stream",
     "text": [
      "    1     \n",
      "   123    \n",
      "  12345   \n",
      " 1234567  \n",
      "123456789 \n",
      " 1234567  \n",
      "  12345   \n",
      "   123    \n",
      "    1     \n"
     ]
    }
   ],
   "source": [
    "for i in range(1,6):\n",
    "    s=''\n",
    "    for j in range(1,2*i):\n",
    "        s=s+str(j)\n",
    "    print(s.center(10))\n",
    "for i in range(4,0,-1):\n",
    "    s=''\n",
    "    for j in range(1,2*i):\n",
    "        s=s+str(j)\n",
    "    print(s.center(10))"
   ]
  },
  {
   "cell_type": "code",
   "execution_count": 96,
   "id": "679b97af",
   "metadata": {},
   "outputs": [
    {
     "name": "stdout",
     "output_type": "stream",
     "text": [
      "    1     \n",
      "   232    \n",
      "  34543   \n",
      " 4567654  \n",
      "567898765 \n",
      " 4567654  \n",
      "  34543   \n",
      "   232    \n",
      "    1     \n"
     ]
    }
   ],
   "source": [
    "n=0\n",
    "for i in range(1,6):\n",
    "    st=''\n",
    "    for j in range(1,2*i):\n",
    "        if j<=i:\n",
    "            n=n+1\n",
    "        else:\n",
    "            n=n-1\n",
    "        st=st+str(n)\n",
    "    print(st.center(10))\n",
    "for i in range(4,0,-1):\n",
    "    st=''\n",
    "    n=i-1\n",
    "    for j in range(1,2*i):\n",
    "        if j<=i:\n",
    "            n=n+1\n",
    "        else:\n",
    "            n=n-1\n",
    "        st=st+str(n)\n",
    "    print(st.center(10))"
   ]
  },
  {
   "cell_type": "code",
   "execution_count": 97,
   "id": "2da8a122",
   "metadata": {},
   "outputs": [
    {
     "name": "stdout",
     "output_type": "stream",
     "text": [
      "    5     \n",
      "   545    \n",
      "  54345   \n",
      " 5432345  \n",
      "543212345 \n",
      " 5432345  \n",
      "  54345   \n",
      "   545    \n",
      "    5     \n"
     ]
    }
   ],
   "source": [
    "for i in range(1,6):\n",
    "    st=''\n",
    "    n=6\n",
    "    for j in range(1,2*i):\n",
    "        if j<=i:\n",
    "            n=n-1\n",
    "        else:\n",
    "            n=n+1\n",
    "        st=st+str(n)\n",
    "    print(st.center(10))\n",
    "for i in range(4,0,-1):\n",
    "    st=''\n",
    "    n=6\n",
    "    for j in range(1,2*i):\n",
    "        if j<=i:\n",
    "            n=n-1\n",
    "        else:\n",
    "            n=n+1\n",
    "        st=st+str(n)\n",
    "    print(st.center(10))"
   ]
  },
  {
   "cell_type": "code",
   "execution_count": 98,
   "id": "2a75766c",
   "metadata": {},
   "outputs": [
    {
     "name": "stdout",
     "output_type": "stream",
     "text": [
      "*******\n",
      "*******\n",
      "*******\n",
      "*******\n",
      "*******\n",
      "*******\n",
      "*******\n"
     ]
    }
   ],
   "source": [
    "for i in range(1,8):\n",
    "    for j in range(1,8):\n",
    "        print('*',end='')\n",
    "    print()"
   ]
  },
  {
   "cell_type": "code",
   "execution_count": 107,
   "id": "dfbff1c9",
   "metadata": {},
   "outputs": [
    {
     "name": "stdout",
     "output_type": "stream",
     "text": [
      "*******\n",
      "*     *\n",
      "*     *\n",
      "*     *\n",
      "*     *\n",
      "*     *\n",
      "*******\n"
     ]
    }
   ],
   "source": [
    "for i in range(1,8):\n",
    "    for j in range(1,8):\n",
    "        if i in (1,7):\n",
    "            print('*',end='')\n",
    "        elif j in (1,7):\n",
    "            print('*',end='')\n",
    "        else:\n",
    "            print(' ',end='')\n",
    "    print()"
   ]
  },
  {
   "cell_type": "code",
   "execution_count": 109,
   "id": "cd67757b",
   "metadata": {},
   "outputs": [
    {
     "name": "stdout",
     "output_type": "stream",
     "text": [
      "\\*****/\n",
      "*\\***/*\n",
      "**\\*/**\n",
      "***\\***\n",
      "**/*\\**\n",
      "*/***\\*\n",
      "/*****\\\n"
     ]
    }
   ],
   "source": [
    "for i in range(1,8):\n",
    "    for j in range(1,8):\n",
    "        if i==j:\n",
    "            print('\\\\',end='')\n",
    "        elif i+j==8:\n",
    "            print('/',end='')\n",
    "        else:\n",
    "            print('*',end='')\n",
    "    print()"
   ]
  },
  {
   "cell_type": "code",
   "execution_count": 120,
   "id": "1b614dcc",
   "metadata": {},
   "outputs": [
    {
     "name": "stdout",
     "output_type": "stream",
     "text": [
      "Enter no of rows: 11\n",
      "Enter no of columns: 33\n",
      "---------------.|.---------------\n",
      "------------.|..|..|.------------\n",
      "---------.|..|..|..|..|.---------\n",
      "------.|..|..|..|..|..|..|.------\n",
      "---.|..|..|..|..|..|..|..|..|.---\n",
      "-------------WELCOME-------------\n",
      "---.|..|..|..|..|..|..|..|..|.---\n",
      "------.|..|..|..|..|..|..|.------\n",
      "---------.|..|..|..|..|.---------\n",
      "------------.|..|..|.------------\n",
      "---------------.|.---------------\n"
     ]
    }
   ],
   "source": [
    "r=int(input('Enter no of rows: '))\n",
    "c=int(input('Enter no of columns: '))\n",
    "for i in range(1,r//2+1):\n",
    "    s=''\n",
    "    for j in range(1,2*i):\n",
    "        s=s+'.|.'\n",
    "    print(s.center(c,'-'))\n",
    "print('WELCOME'.center(c,'-'))\n",
    "for i in range(r//2,0,-1):\n",
    "    s=''\n",
    "    for j in range(1,2*i):\n",
    "        s=s+'.|.'\n",
    "    print(s.center(c,'-'))"
   ]
  },
  {
   "cell_type": "code",
   "execution_count": 1,
   "id": "0832a813",
   "metadata": {},
   "outputs": [
    {
     "name": "stdout",
     "output_type": "stream",
     "text": [
      "------------------j------------------\n",
      "----------------j-i-j----------------\n",
      "--------------j-i-h-i-j--------------\n",
      "------------j-i-h-g-h-i-j------------\n",
      "----------j-i-h-g-f-g-h-i-j----------\n",
      "--------j-i-h-g-f-e-f-g-h-i-j--------\n",
      "------j-i-h-g-f-e-d-e-f-g-h-i-j------\n",
      "----j-i-h-g-f-e-d-c-d-e-f-g-h-i-j----\n",
      "--j-i-h-g-f-e-d-c-b-c-d-e-f-g-h-i-j--\n",
      "j-i-h-g-f-e-d-c-b-a-b-c-d-e-f-g-h-i-j\n",
      "--j-i-h-g-f-e-d-c-b-c-d-e-f-g-h-i-j--\n",
      "----j-i-h-g-f-e-d-c-d-e-f-g-h-i-j----\n",
      "------j-i-h-g-f-e-d-e-f-g-h-i-j------\n",
      "--------j-i-h-g-f-e-f-g-h-i-j--------\n",
      "----------j-i-h-g-f-g-h-i-j----------\n",
      "------------j-i-h-g-h-i-j------------\n",
      "--------------j-i-h-i-j--------------\n",
      "----------------j-i-j----------------\n",
      "------------------j------------------\n"
     ]
    }
   ],
   "source": [
    "s=int(input('Enter size: '))\n",
    "for i in range(1,s+1):\n",
    "    l=[]\n",
    "    n=97+s\n",
    "    for j in range(1,2*i):\n",
    "        if j<=i:\n",
    "            n=n-1\n",
    "        else:\n",
    "            n=n+1\n",
    "        l.append(chr(n))\n",
    "    st='-'.join(l)\n",
    "    print(st.center(37,'-'))\n",
    "for i in range(s-1,0,-1):\n",
    "    l=[]\n",
    "    n=97+s\n",
    "    for j in range(1,2*i):\n",
    "        if j<=i:\n",
    "            n=n-1\n",
    "        else:\n",
    "            n=n+1\n",
    "        l.append(chr(n))\n",
    "    st='-'.join(l)\n",
    "    print(st.center(37,'-'))"
   ]
  },
  {
   "attachments": {},
   "cell_type": "markdown",
   "id": "431764b0",
   "metadata": {},
   "source": [
    "    Day 12"
   ]
  },
  {
   "cell_type": "code",
   "execution_count": 22,
   "id": "e9f952fd",
   "metadata": {},
   "outputs": [
    {
     "name": "stdout",
     "output_type": "stream",
     "text": [
      "Hint: think a low number!\n",
      "Guesses left: 4\n",
      "Hint: think a low number!\n",
      "Guesses left: 3\n",
      "Hint: think a low number!\n",
      "Guesses left: 2\n",
      "Congrats! you guessed right\n"
     ]
    }
   ],
   "source": [
    "# 1. Write a code to implement Guess Game.\n",
    "i=5\n",
    "c=0\n",
    "import random\n",
    "n=random.randint(1,50)\n",
    "while i:\n",
    "    ch=int(input('Enter your choice: '))\n",
    "    if ch>50 or ch<1:\n",
    "        continue\n",
    "    if ch==n:\n",
    "        print('Correct answrer: ',n)\n",
    "        print('Congrats! you guessed right')\n",
    "        c=1\n",
    "        break\n",
    "    elif ch>n:\n",
    "        print('Hint: think a low number!')\n",
    "    elif ch<n:\n",
    "        print('Hint: think a high number!')\n",
    "    i=i-1\n",
    "    print(f'Guesses left: {i}')\n",
    "\n",
    "if c==0:\n",
    "    print('Correct answrer: ',n)\n",
    "    print('Better luck next time')"
   ]
  },
  {
   "cell_type": "code",
   "execution_count": 2,
   "id": "f8cb1cc3",
   "metadata": {},
   "outputs": [
    {
     "name": "stdout",
     "output_type": "stream",
     "text": [
      "[[0, 0, 0], [0, 0, 1], [0, 0, 2], [0, 1, 0], [0, 1, 1], [1, 0, 0], [1, 0, 1], [1, 1, 0], [1, 1, 2]]\n"
     ]
    }
   ],
   "source": [
    "# 2\n",
    "if __name__ == '__main__':\n",
    "    x = int(input())\n",
    "    y = int(input())\n",
    "    z = int(input())\n",
    "    n = int(input())\n",
    "    out=[]\n",
    "    for i in range(x + 1): \n",
    "        for j in range(y + 1): \n",
    "            for m in range(z + 1): \n",
    "                if ((i + j + m) != n):\n",
    "                    out.append([i,j,m])\n",
    "                    \n",
    "    print(out)"
   ]
  },
  {
   "cell_type": "code",
   "execution_count": 5,
   "id": "9c63defe",
   "metadata": {},
   "outputs": [
    {
     "name": "stdout",
     "output_type": "stream",
     "text": [
      "[0, 6]\n",
      "[5, 0, 6]\n"
     ]
    }
   ],
   "source": [
    "# 3\n",
    "if __name__ == '__main__':\n",
    "    N = int(input())\n",
    "    ls = list()\n",
    "    while N>0:\n",
    "        N -=1\n",
    "        command = input().split()\n",
    "        if command[0] == \"insert\":\n",
    "            ls.insert(int(command[1]),int(command[2]))\n",
    "        elif command[0] == \"remove\":\n",
    "            ls.remove(int(command[1]))\n",
    "        elif command[0] == \"print\":\n",
    "            print(ls)\n",
    "        elif command[0] == \"sort\":\n",
    "            ls.sort()\n",
    "        elif command[0] == \"append\":\n",
    "            ls.append(int(command[1]))\n",
    "        elif command[0] == \"pop\":\n",
    "            ls.pop()\n",
    "        elif command[0] ==\"reverse\":\n",
    "            ls = ls[::-1]\n",
    "        else:\n",
    "            pass"
   ]
  },
  {
   "cell_type": "code",
   "execution_count": 7,
   "id": "6f1e8856",
   "metadata": {},
   "outputs": [
    {
     "name": "stdout",
     "output_type": "stream",
     "text": [
      "26.50\n"
     ]
    }
   ],
   "source": [
    "# 4\n",
    "if __name__ == '__main__':\n",
    "    n = int(input())\n",
    "    student_marks = {}\n",
    "    for _ in range(n):\n",
    "        name, *line = input().split()\n",
    "        scores = list(map(float, line))\n",
    "        student_marks[name] = scores\n",
    "    query_name = input()\n",
    "    length_of_array = len(student_marks[query_name])\n",
    "    sum = sum(student_marks[query_name])\n",
    "    average = sum / length_of_array\n",
    "    print(f\"{average:.2f}\")"
   ]
  },
  {
   "cell_type": "code",
   "execution_count": 2,
   "id": "8c74c955",
   "metadata": {},
   "outputs": [
    {
     "name": "stdout",
     "output_type": "stream",
     "text": [
      "Array before sorting:  [8, 6, 5, 7]\n",
      "Array after sorting:  [5, 6, 7, 8]\n"
     ]
    }
   ],
   "source": [
    "# 5. selection sort\n",
    "arr=[8,6,5,7]\n",
    "print('Array before sorting: ',arr)\n",
    "for i in range(0,len(arr)-1):\n",
    "    for j in range(i+1,len(arr)):\n",
    "        if arr[i]>arr[j]:\n",
    "            temp=arr[i]\n",
    "            arr[i]=arr[j]\n",
    "            arr[j]=temp\n",
    "print('Array after sorting: ',arr)"
   ]
  },
  {
   "cell_type": "code",
   "execution_count": 3,
   "id": "cea27900",
   "metadata": {},
   "outputs": [
    {
     "name": "stdout",
     "output_type": "stream",
     "text": [
      "Array before sorting:  [8, 6, 5, 7]\n",
      "Array after sorting:  [5, 6, 7, 8]\n"
     ]
    }
   ],
   "source": [
    "# 5. bubble sort\n",
    "arr=[8,6,5,7]\n",
    "print('Array before sorting: ',arr)\n",
    "for i in range(0,len(arr)):\n",
    "    for j in range(0,len(arr)-1-i):\n",
    "        if arr[j]>arr[j+1]:\n",
    "            temp=arr[j]\n",
    "            arr[j]=arr[j+1]\n",
    "            arr[j+1]=temp\n",
    "print('Array after sorting: ',arr)"
   ]
  },
  {
   "cell_type": "code",
   "execution_count": 4,
   "id": "0bef486f",
   "metadata": {},
   "outputs": [
    {
     "name": "stdout",
     "output_type": "stream",
     "text": [
      "Array before sorting:  [8, 6, 5, 7]\n",
      "Array after sorting:  [5, 6, 7, 8]\n"
     ]
    }
   ],
   "source": [
    "## 5. insertion sort\n",
    "arr=[8,6,5,7]\n",
    "print('Array before sorting: ',arr)\n",
    "for i in range(1,len(arr)):\n",
    "    k=arr[i]\n",
    "    j=i-1\n",
    "    while j>=0 and k<arr[j]:\n",
    "        arr[j+1]=arr[j]\n",
    "        j-=1\n",
    "    arr[j+1]=k\n",
    "print('Array after sorting: ',arr)"
   ]
  },
  {
   "cell_type": "markdown",
   "id": "2e5c6d59",
   "metadata": {},
   "source": [
    "    Day 13"
   ]
  },
  {
   "cell_type": "code",
   "execution_count": 3,
   "id": "2bff0259",
   "metadata": {},
   "outputs": [
    {
     "name": "stdout",
     "output_type": "stream",
     "text": [
      "Enter a string: lorem ipsum anti mystery socialization that government and politics is cringe asf\n",
      "No of a:  6  e:  5  i:  9  o:  5  u:  1\n"
     ]
    }
   ],
   "source": [
    "# 1. Write a Python Code to count the Number of Each Vowel in a given string\n",
    "s=input('Enter a string: ')\n",
    "a=e=c=o=u=0\n",
    "for i in s:\n",
    "    if i in 'aA':\n",
    "        a+=1\n",
    "    elif i in 'eE':\n",
    "        e+=1\n",
    "    elif i in 'iI':\n",
    "        c+=1\n",
    "    elif i in 'oO':\n",
    "        o+=1\n",
    "    elif i in 'uU':\n",
    "        u+=1\n",
    "print('No of a: ',a,' e: ',e,' i: ',c,' o: ',o,' u: ',u)"
   ]
  },
  {
   "cell_type": "code",
   "execution_count": 5,
   "id": "350e1b19",
   "metadata": {},
   "outputs": [
    {
     "name": "stdout",
     "output_type": "stream",
     "text": [
      "Enter a string: lorem ipsum anti mystery socialization that government and politics is cringe asf\n",
      "No of words:  12  characters:  70  spaces:  11\n"
     ]
    }
   ],
   "source": [
    "# 2. Write a Python Code to count number of words, characters and number of spaces in a given stirng\n",
    "s=input('Enter a string: ')\n",
    "w=c=b=0\n",
    "l=s.split()\n",
    "for i in l: \n",
    "    w+=1\n",
    "for i in s:\n",
    "    if i==' ':\n",
    "        b+=1\n",
    "    else:\n",
    "        c+=1\n",
    "print('No of words: ',w,' characters: ',c,' spaces: ',b)"
   ]
  },
  {
   "cell_type": "code",
   "execution_count": 8,
   "id": "f9c072ae",
   "metadata": {},
   "outputs": [
    {
     "name": "stdout",
     "output_type": "stream",
     "text": [
      "Og string:  Gfg, is best : for ! Geeks ;\n",
      "After removing punc:  Gfg is best  for  Geeks \n"
     ]
    }
   ],
   "source": [
    "# 3. Write a Python Program to remove punctuation from a given string (using loop)\n",
    "s=input('Enter a string: ')\n",
    "print('Og string: ',s)\n",
    "punc='''!()-[]}{;:'\"\\,<>./?@#$%^&*_~'''\n",
    "for i in s:\n",
    "    if i in punc:\n",
    "        s=s.replace(i,'')\n",
    "print('After removing punc: ',s)"
   ]
  },
  {
   "cell_type": "code",
   "execution_count": 6,
   "id": "3b886f02",
   "metadata": {},
   "outputs": [
    {
     "name": "stdout",
     "output_type": "stream",
     "text": [
      "Enter numbers for column  1\n",
      "Enter numbers for column  2\n",
      "Enter numbers for column  3\n",
      "[[2, 3, 4], [5, 6, 4], [7, 1, 2]]\n"
     ]
    }
   ],
   "source": [
    "# 4. Write a Python Program to take a mxn matrix input from user and stored in nested list\n",
    "matrix=[]\n",
    "m=int(input('Enter no of columns: '))\n",
    "n=int(input('Enter no of rows: '))\n",
    "for i in range(0,n):\n",
    "    a=[]\n",
    "    print('Enter numbers for column ',i+1)\n",
    "    for j in range(0,m):\n",
    "        a.append(int(input()))\n",
    "    matrix.append(a)\n",
    "print(matrix)"
   ]
  },
  {
   "cell_type": "code",
   "execution_count": 3,
   "id": "8979e701",
   "metadata": {},
   "outputs": [
    {
     "name": "stdout",
     "output_type": "stream",
     "text": [
      "[[2, 2, 2], [5, 5, 5], [6, 6, 6]]\n",
      "[[3, 3, 3], [4, 4, 4], [1, 1, 1]]\n",
      "[[5, 5, 5], [9, 9, 9], [7, 7, 7]]\n",
      "[[16, 16, 16], [40, 40, 40], [48, 48, 48]]\n",
      "[[2, 5, 6], [2, 5, 6], [2, 5, 6]]\n"
     ]
    }
   ],
   "source": [
    "# 5. Write a Python Program to add, multiply and transpose two matrices given by user \n",
    "m1=[[2,2,2],[5,5,5],[6,6,6]]\n",
    "m2=[[3,3,3],[4,4,4],[1,1,1]]\n",
    "print(m1)\n",
    "print(m2)\n",
    "\n",
    "def add(x,y):\n",
    "    sum=[]\n",
    "    for i in range(0,3):\n",
    "        a=[]\n",
    "        for j in range(0,3):\n",
    "            a.append(x[i][j]+y[i][j])\n",
    "        sum.append(a)\n",
    "    print(sum)\n",
    "\n",
    "add(m1,m2)\n",
    "\n",
    "def mul(x,y):\n",
    "    prod=[[0,0,0],[0,0,0],[0,0,0]]\n",
    "    for i in range(len(x)):\n",
    "        for j in range(len(y[0])):\n",
    "            for k in range(len(y)):\n",
    "                prod[i][j] += x[i][k] * y[k][j]\n",
    "    print(prod)\n",
    "\n",
    "mul(m1,m2)\n",
    "\n",
    "def transpose(x):\n",
    "    result=[[0,0,0],[0,0,0],[0,0,0]]\n",
    "    for i in range(len(x)):\n",
    "        for j in range(len(x[0])):\n",
    "            result[j][i] = x[i][j]\n",
    "    print(result)\n",
    "\n",
    "transpose(m1)"
   ]
  },
  {
   "attachments": {},
   "cell_type": "markdown",
   "id": "c1dfe27b",
   "metadata": {},
   "source": [
    "    Day 14"
   ]
  },
  {
   "cell_type": "code",
   "execution_count": 3,
   "id": "0cec615a",
   "metadata": {},
   "outputs": [
    {
     "name": "stdout",
     "output_type": "stream",
     "text": [
      "15\n",
      "6\n"
     ]
    }
   ],
   "source": [
    "# 1. Program to find the sum of digits of a number until the sum is reduced to 1 digit\n",
    "n=int(input('Enter a number: '))\n",
    "while n>10:\n",
    "    m=n\n",
    "    sum=0\n",
    "    while m:\n",
    "        a=m % 10\n",
    "        sum=sum + a\n",
    "        m=m // 10\n",
    "    n=sum\n",
    "    print(sum)"
   ]
  },
  {
   "cell_type": "code",
   "execution_count": 2,
   "id": "f420faf9",
   "metadata": {},
   "outputs": [
    {
     "name": "stdout",
     "output_type": "stream",
     "text": [
      "First Number is:  4\n",
      "Second Number is:  6\n",
      "The HCF is:  2\n",
      "LCM of the two numbers is:  12\n"
     ]
    }
   ],
   "source": [
    "# 2. Program to find LCM and HCF of two numbers\n",
    "a = int(input(\"Enter the first number: \"))\n",
    "b = int(input(\"Enter the second number: \"))\n",
    "HCF = 1\n",
    "for i in range(2,a+1):\n",
    "    if(a%i==0 and b%i==0):\n",
    "        HCF = i\n",
    " \n",
    "print(\"First Number is: \",a)\n",
    "print(\"Second Number is: \",b)\n",
    "print(\"The HCF is: \",HCF)\n",
    "LCM = int((a*b)/(HCF))\n",
    "print(\"LCM of the two numbers is: \",LCM)"
   ]
  },
  {
   "cell_type": "code",
   "execution_count": 4,
   "id": "77c864a8",
   "metadata": {},
   "outputs": [
    {
     "name": "stdout",
     "output_type": "stream",
     "text": [
      "27\n",
      "216\n",
      "729\n"
     ]
    }
   ],
   "source": [
    "# 3. Write a program to accept any number n and print the cube of all numbers from 1 to n which are divisible by 3. Rewrite the program using a continue statement.\n",
    "\n",
    "n=int(input('Enter a number: '))\n",
    "for i in range(1,n):\n",
    "    if i%3==0:\n",
    "        print(i**3)"
   ]
  },
  {
   "cell_type": "code",
   "execution_count": 5,
   "id": "0b79567c",
   "metadata": {},
   "outputs": [
    {
     "name": "stdout",
     "output_type": "stream",
     "text": [
      "27\n",
      "216\n",
      "729\n"
     ]
    }
   ],
   "source": [
    "# 3. Write a program to accept any number n and print the cube of all numbers from 1 to n which are divisible by 3. Rewrite the program using a continue statement.\n",
    "\n",
    "n=int(input('Enter a number: '))\n",
    "for i in range(1,n):\n",
    "    if i%3!=0:\n",
    "        continue\n",
    "    else:\n",
    "        print(i**3)"
   ]
  },
  {
   "cell_type": "code",
   "execution_count": 1,
   "id": "582af853",
   "metadata": {},
   "outputs": [
    {
     "name": "stdout",
     "output_type": "stream",
     "text": [
      "For Student-1:-\n",
      "\n",
      "For Student-2:-\n",
      "\n",
      "For Student-3:-\n",
      "\n",
      "For Student-4:-\n",
      "\n",
      "For Student-5:-\n",
      "\n",
      "For Student-6:-\n",
      "\n",
      "For Student-7:-\n",
      "\n",
      "For Student-8:-\n",
      "\n",
      "For Student-9:-\n",
      "\n",
      "For Student-10:-\n",
      "\n",
      "Results:-\n",
      "[(1000, [80, 60, 70]), (2000, [40, 50, 60]), (4000, [60, 40, 40]), (5000, [90, 70, 80]), (8000, [80, 70, 60]), (9000, [50, 60, 70])]\n",
      "No of students with total marks>200: 3\n",
      "Roll no of student with highest total marks: 5000\n"
     ]
    }
   ],
   "source": [
    "# 4. Write a program to read roll number and marks of 10 students in 3 subjects. The valid range for roll number is 1000-9999, if the roll number entered is not in this range, the user should be asked to enter again. Calculate total marks of only those students who get more than or equal to 40 marks in each subject. Count the number of students whose total is more than 200. Print the roll number of the students who gets the highest total.\n",
    "\n",
    "def rollno(roll):\n",
    "    if roll>=1000 and roll<=9999:\n",
    "        return True\n",
    "    else:\n",
    "        return False\n",
    "    \n",
    "def calcmark(marks):\n",
    "    total=sum(marks)\n",
    "    return total\n",
    "\n",
    "data=[]\n",
    "hightotal=0\n",
    "highrollno=0\n",
    "counttotal200=0\n",
    "\n",
    "for i in range(0,10):\n",
    "    print(f\"For Student-{i+1}:-\")\n",
    "    while True:\n",
    "        roll=int(input('Enter roll no: '))\n",
    "        if rollno(roll):\n",
    "            break\n",
    "        else:\n",
    "            print('Invalid Roll')\n",
    "    \n",
    "    marks=[]\n",
    "    for j in range(0,3):\n",
    "        marks.append(int(input(f'Marks for Subject-{j+1}: ')))\n",
    "    print()\n",
    "\n",
    "    if all(mark>=40 for mark in marks):\n",
    "        totmark=calcmark(marks)\n",
    "\n",
    "        if totmark>200:\n",
    "            counttotal200+=1\n",
    "\n",
    "        if totmark>hightotal:\n",
    "            hightotal=totmark\n",
    "            highrollno=roll\n",
    "\n",
    "        data.append((roll,marks))\n",
    "\n",
    "print('Results:-')\n",
    "print(data)\n",
    "print(f'No of students with total marks>200: {counttotal200}')\n",
    "print(f'Roll no of student with highest total marks: {highrollno}')  "
   ]
  },
  {
   "cell_type": "code",
   "execution_count": 6,
   "id": "58ab4bfc",
   "metadata": {},
   "outputs": [
    {
     "name": "stdout",
     "output_type": "stream",
     "text": [
      "No of digits:  3\n"
     ]
    }
   ],
   "source": [
    "# 5. Write a program to input a number and count the digits in it. Use while loop and the program should work correctly for 0 also\n",
    "n=int(input('Enter a number: '))\n",
    "s=0\n",
    "if n==0:\n",
    "    print('No of digits: ',1)\n",
    "else:\n",
    "    while n:\n",
    "        s+=1\n",
    "        n=n//10\n",
    "print('No of digits: ',s)"
   ]
  },
  {
   "cell_type": "code",
   "execution_count": 7,
   "id": "19aaef1c",
   "metadata": {},
   "outputs": [
    {
     "name": "stdout",
     "output_type": "stream",
     "text": [
      "The reversed no is:  234\n",
      "The double of reversed no:  468\n"
     ]
    }
   ],
   "source": [
    "# 6. Write a program to enter a number and find the reverse of that number. Also display the double of the reverse number. (don’t use string magic)\n",
    "n=int(input(\"Enter a no: \"))\n",
    "s=0\n",
    "while n:\n",
    "    a=n%10\n",
    "    s=s*10+a\n",
    "    n=n//10\n",
    "print('The reversed no is: ',s)\n",
    "print('The double of reversed no: ',2*s)"
   ]
  }
 ],
 "metadata": {
  "kernelspec": {
   "display_name": "Python 3 (ipykernel)",
   "language": "python",
   "name": "python3"
  },
  "language_info": {
   "codemirror_mode": {
    "name": "ipython",
    "version": 3
   },
   "file_extension": ".py",
   "mimetype": "text/x-python",
   "name": "python",
   "nbconvert_exporter": "python",
   "pygments_lexer": "ipython3",
   "version": "3.11.3"
  }
 },
 "nbformat": 4,
 "nbformat_minor": 5
}
